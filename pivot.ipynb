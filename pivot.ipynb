{
 "cells": [
  {
   "cell_type": "markdown",
   "metadata": {},
   "source": [
    "# Table pivoting using agate\n",
    "### For when an ~~idiot~~ someone who thinks differently makes a spreadsheet, or otherwise if you need to flip data to be more convinient to work with for how you are using it"
   ]
  },
  {
   "cell_type": "markdown",
   "metadata": {},
   "source": [
    "### Example case: Douglas County FY2017 salary data"
   ]
  },
  {
   "cell_type": "code",
   "execution_count": 1,
   "metadata": {},
   "outputs": [],
   "source": [
    "#imports\n",
    "import agate\n",
    "DC = agate.Table.from_csv(\"data/douglas.csv\")"
   ]
  },
  {
   "cell_type": "markdown",
   "metadata": {},
   "source": [
    "When taking a first look at the data, you'll find that there isn't one row per employee. Instead, there is a row for each employee's salary components. Employees are listed multiple times, once for each salary component. In most spreadsheets, the salary components would be included as columns, not individual rows."
   ]
  },
  {
   "cell_type": "code",
   "execution_count": 2,
   "metadata": {
    "scrolled": false
   },
   "outputs": [
    {
     "name": "stdout",
     "output_type": "stream",
     "text": [
      "| column                      | data_type |\n",
      "| --------------------------- | --------- |\n",
      "| Employee Number             | Number    |\n",
      "| Employee Last Name          | Text      |\n",
      "| Employee First Name         | Text      |\n",
      "| Employee Middle Name        | Text      |\n",
      "| Department                  | Text      |\n",
      "| Job                         | Text      |\n",
      "| Termination Date            | Text      |\n",
      "| Assignment Category Meaning | Text      |\n",
      "| Employee Category Meaning   | Text      |\n",
      "| Original Date of Hire       | Text      |\n",
      "| Base Salary                 | Number    |\n",
      "| 2017 Gross Pay              | Number    |\n",
      "| Element Name                | Text      |\n",
      "| Element Total               | Number    |\n",
      "| INCLUDED_IN_BASE_PAY        | Boolean   |\n",
      "| PAY_COMPONENTS              | Text      |\n",
      "| Department_Rollup           | Text      |\n",
      "\n"
     ]
    }
   ],
   "source": [
    "print(DC)"
   ]
  },
  {
   "cell_type": "markdown",
   "metadata": {},
   "source": [
    "More info if this example doesn't fit your needs: https://agate.readthedocs.io/en/1.6.1/api/table.html#agate.Table.pivot\n",
    "\n",
    "### Step 1: Identify the key or keys\n",
    "\n",
    "This should be the identifier number for what you are looking to group by, or in other words put only once in each data. Put everything in here that you want to group by. In this case, we want to group by employee. When looking at the data, we see some columns have are the same in every row for each employee. To include it in our final product, we should also group by these. The columns that are consistent for each row (with only the number of rows depending on how many pay components the employee has) that I also want included are: 'Employee Number','Employee Last Name', 'Employee First Name', 'Employee Middle Name', 'Department', 'Job', 'Assignment Category Meaning', 'Original Date of Hire', 'Base Salary', '2017 Gross Pay', 'Department_Rollup'. Pass these as a list in the first argument of .pivot()\n",
    "\n",
    "### Step 2: Identify the column where you want to become headers\n",
    "\n",
    "In our case, the pay components. These are in the column 'PAY_COMPONENTS'. That's our second argument. 'Element Namne' is too detailed for our purposes, but you could use that, too.\n",
    "\n",
    "### Step 3: Let it know what we want to do with the column value turned header\n",
    "\n",
    "We'll sum the 'Element Total' column. "
   ]
  },
  {
   "cell_type": "code",
   "execution_count": 3,
   "metadata": {
    "scrolled": true
   },
   "outputs": [],
   "source": [
    "DC_pivot = DC.pivot(['Employee Number','Employee Last Name','Employee Middle Name','Employee First Name', 'Department', 'Job', 'Assignment Category Meaning', 'Original Date of Hire', 'Base Salary', '2017 Gross Pay', 'Department_Rollup'], 'PAY_COMPONENTS', aggregation=agate.Sum(\"Element Total\"))"
   ]
  },
  {
   "cell_type": "markdown",
   "metadata": {},
   "source": [
    "Print the columns. We now have a table with all of the keys we provided it with (From 'Employee Number' to '2017 Gross Pay') followed by all the values found in what was the 'PAY_COMPONENTS' column."
   ]
  },
  {
   "cell_type": "code",
   "execution_count": 4,
   "metadata": {
    "scrolled": false
   },
   "outputs": [
    {
     "name": "stdout",
     "output_type": "stream",
     "text": [
      "| column                      | data_type |\n",
      "| --------------------------- | --------- |\n",
      "| Employee Number             | Number    |\n",
      "| Employee Last Name          | Text      |\n",
      "| Employee Middle Name        | Text      |\n",
      "| Employee First Name         | Text      |\n",
      "| Department                  | Text      |\n",
      "| Job                         | Text      |\n",
      "| Assignment Category Meaning | Text      |\n",
      "| Original Date of Hire       | Text      |\n",
      "| Base Salary                 | Number    |\n",
      "| 2017 Gross Pay              | Number    |\n",
      "| Department_Rollup           | Text      |\n",
      "| Longevity                   | Number    |\n",
      "| Base Pay                    | Number    |\n",
      "| Overtime                    | Number    |\n",
      "| Other                       | Number    |\n",
      "| Education stipend           | Number    |\n",
      "| Specialty                   | Number    |\n",
      "| Comp time cashout           | Number    |\n",
      "| Annual Payoff               | Number    |\n",
      "\n"
     ]
    }
   ],
   "source": [
    "print(DC_pivot)"
   ]
  },
  {
   "cell_type": "markdown",
   "metadata": {},
   "source": [
    "### Step 4: Check the data entegrity.\n",
    "\n",
    "If done correctly, the row count of the new table will match the number of employees in the original table. In other words, employees won't be listed twice anymore. One way of doing this is by grouping again."
   ]
  },
  {
   "cell_type": "code",
   "execution_count": 5,
   "metadata": {},
   "outputs": [],
   "source": [
    "#Group and count\n",
    "by_id = DC_pivot.group_by('Employee Number')\n",
    "DC_pivot_group = by_id.aggregate([\n",
    "    ('count', agate.Count())\n",
    "])"
   ]
  },
  {
   "cell_type": "markdown",
   "metadata": {},
   "source": [
    "Is the lenth of this equal to what we grouped?"
   ]
  },
  {
   "cell_type": "code",
   "execution_count": 6,
   "metadata": {},
   "outputs": [
    {
     "name": "stdout",
     "output_type": "stream",
     "text": [
      "2805\n",
      "2806\n"
     ]
    }
   ],
   "source": [
    "print(len(DC_pivot_group))\n",
    "print(len(DC_pivot))"
   ]
  },
  {
   "cell_type": "markdown",
   "metadata": {},
   "source": [
    "Well, darn. Let's look at who is listed twice and why."
   ]
  },
  {
   "cell_type": "code",
   "execution_count": 7,
   "metadata": {
    "scrolled": true
   },
   "outputs": [
    {
     "name": "stdout",
     "output_type": "stream",
     "text": [
      "| Employee Number | count |\n",
      "| --------------- | ----- |\n",
      "|           2,076 |     2 |\n",
      "|             249 |     1 |\n",
      "|             250 |     1 |\n",
      "|             251 |     1 |\n",
      "|             252 |     1 |\n",
      "|             254 |     1 |\n",
      "|             255 |     1 |\n",
      "|             261 |     1 |\n",
      "|             265 |     1 |\n",
      "|             266 |     1 |\n",
      "|             269 |     1 |\n",
      "|             272 |     1 |\n",
      "|             273 |     1 |\n",
      "|             282 |     1 |\n",
      "|             284 |     1 |\n",
      "|             292 |     1 |\n",
      "|             295 |     1 |\n",
      "|             296 |     1 |\n",
      "|             301 |     1 |\n",
      "|             308 |     1 |\n",
      "|             ... |   ... |\n"
     ]
    }
   ],
   "source": [
    "DC_pivot_group.order_by('count', reverse=True).print_table()"
   ]
  },
  {
   "cell_type": "markdown",
   "metadata": {},
   "source": [
    "Employee 2076 is listed twice in our data. When looking, we see that this is because she has two different positions with different salaries. We'll handle this somehow, but it's a seperate problem, not a problem with the grouping\n",
    "\n",
    "I still want to know if INCLUDED_IN_BASE_PAY is consistent depending on what the Element Name is. I did some coding which I left out, and it is."
   ]
  },
  {
   "cell_type": "markdown",
   "metadata": {},
   "source": [
    "### Export your new data and get to the actual work!"
   ]
  },
  {
   "cell_type": "code",
   "execution_count": 8,
   "metadata": {
    "scrolled": true
   },
   "outputs": [],
   "source": [
    "DC_pivot.to_csv(\"Q:/EDITORIAL-Q/1Salaries/2017/DC_redone.csv\")"
   ]
  }
 ],
 "metadata": {
  "kernelspec": {
   "display_name": "Python 3",
   "language": "python",
   "name": "python3"
  },
  "language_info": {
   "codemirror_mode": {
    "name": "ipython",
    "version": 3
   },
   "file_extension": ".py",
   "mimetype": "text/x-python",
   "name": "python",
   "nbconvert_exporter": "python",
   "pygments_lexer": "ipython3",
   "version": "3.7.0"
  }
 },
 "nbformat": 4,
 "nbformat_minor": 2
}
